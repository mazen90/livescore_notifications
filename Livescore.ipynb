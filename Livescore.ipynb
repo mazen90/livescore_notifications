{
 "cells": [
  {
   "cell_type": "code",
   "execution_count": 1,
   "id": "ab38b52f",
   "metadata": {},
   "outputs": [],
   "source": [
    "from playsound import playsound\n",
    "from time import sleep\n",
    "import requests\n",
    "import pandas as pd\n",
    "import datetime"
   ]
  },
  {
   "cell_type": "code",
   "execution_count": 2,
   "id": "14dd124b",
   "metadata": {},
   "outputs": [],
   "source": [
    "yesterday = (datetime.datetime.now()-datetime.timedelta(days=1)).strftime(\"%Y%m%d\")\n",
    "today = (datetime.datetime.now()).strftime(\"%Y%m%d\")\n",
    "url = f\"https://prod-public-api.livescore.com/v1/api/react/date/soccer/{today}/0.00?MD=1\""
   ]
  },
  {
   "cell_type": "code",
   "execution_count": 5,
   "id": "3d2913b8",
   "metadata": {},
   "outputs": [
    {
     "name": "stdout",
     "output_type": "stream",
     "text": [
      "Favourite Team: Manchester United\n",
      "2022-09-15  16:45 FC Sheriff 0 2 Manchester United FT\n",
      "2022-09-15  16:45 FC Sheriff 0 2 Manchester United FT\n"
     ]
    },
    {
     "ename": "KeyboardInterrupt",
     "evalue": "",
     "output_type": "error",
     "traceback": [
      "\u001b[1;31m---------------------------------------------------------------------------\u001b[0m",
      "\u001b[1;31mKeyboardInterrupt\u001b[0m                         Traceback (most recent call last)",
      "\u001b[1;32m~\\AppData\\Local\\Temp/ipykernel_10224/1678133883.py\u001b[0m in \u001b[0;36m<module>\u001b[1;34m\u001b[0m\n\u001b[0;32m     27\u001b[0m             \u001b[1;32mexcept\u001b[0m\u001b[1;33m:\u001b[0m\u001b[1;33m\u001b[0m\u001b[1;33m\u001b[0m\u001b[0m\n\u001b[0;32m     28\u001b[0m                 \u001b[1;32mcontinue\u001b[0m\u001b[1;33m\u001b[0m\u001b[1;33m\u001b[0m\u001b[0m\n\u001b[1;32m---> 29\u001b[1;33m     \u001b[0msleep\u001b[0m\u001b[1;33m(\u001b[0m\u001b[1;36m10\u001b[0m\u001b[1;33m)\u001b[0m\u001b[1;33m\u001b[0m\u001b[1;33m\u001b[0m\u001b[0m\n\u001b[0m",
      "\u001b[1;31mKeyboardInterrupt\u001b[0m: "
     ]
    }
   ],
   "source": [
    "scores_1 = [None, None]\n",
    "scores_2 = [None, None]\n",
    "fav_team = input(\"Favourite Team: \")\n",
    "while True:\n",
    "    matches = requests.get(url).json()\n",
    "    for stage in matches[\"Stages\"]:\n",
    "        for event in stage[\"Events\"]:\n",
    "            try:\n",
    "#                 print('no')\n",
    "                time = datetime.datetime.strptime(str(event['Esd']),\"%Y%m%d%H%M%S\" )\n",
    "                time_string = time.strftime('%Y-%m-%d  %H:%M')\n",
    "                if(event['T2'][0]['Nm'].lower() == fav_team.lower() or event['T1'][0]['Nm'].lower() == fav_team.lower()):\n",
    "                    if(scores_1 == [None, None] and scores_2 == [None, None]):\n",
    "                        scores_1 = [event['Tr1'], event['Tr2']]\n",
    "                        scores_2 = [event['Tr1'], event['Tr2']]\n",
    "#                         print('none')\n",
    "                    else:\n",
    "                        if(scores_2 == [event['Tr1'], event['Tr2']]):\n",
    "                            pass\n",
    "                        else:\n",
    "#                             print('hi')\n",
    "                            playsound('E:\\\\livescore\\\\assets\\\\mixkit-bell-notification-933.wav')\n",
    "                            scores_2 = [event['Tr1'], event['Tr2']]\n",
    "                            scores_1 = scores_2\n",
    "                            \n",
    "                    print(time_string, event['T1'][0]['Nm'], event['Tr1'], event['Tr2'], event['T2'][0]['Nm'], event['Eps'], )\n",
    "            except:\n",
    "                continue\n",
    "    sleep(10)"
   ]
  }
 ],
 "metadata": {
  "kernelspec": {
   "display_name": "Python 3 (ipykernel)",
   "language": "python",
   "name": "python3"
  },
  "language_info": {
   "codemirror_mode": {
    "name": "ipython",
    "version": 3
   },
   "file_extension": ".py",
   "mimetype": "text/x-python",
   "name": "python",
   "nbconvert_exporter": "python",
   "pygments_lexer": "ipython3",
   "version": "3.9.7"
  }
 },
 "nbformat": 4,
 "nbformat_minor": 5
}
